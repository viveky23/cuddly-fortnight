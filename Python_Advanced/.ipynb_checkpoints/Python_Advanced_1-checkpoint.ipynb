{
 "cells": [
  {
   "cell_type": "markdown",
   "metadata": {},
   "source": [
    "# Python Classes"
   ]
  },
  {
   "cell_type": "code",
   "execution_count": 6,
   "metadata": {},
   "outputs": [
    {
     "name": "stdout",
     "output_type": "stream",
     "text": [
      "Name :  Sundar , Cuteness:  10 , Smartness:  9\n",
      "Amazingness:  13.75\n"
     ]
    }
   ],
   "source": [
    "'''Class variabels shared by all instances of a class while\n",
    "instance vaiables are dfind inside a method and belong to the \n",
    "current instance of the class.'''\n",
    "\n",
    "class Sundar:\n",
    "    'Common class for all things Sundar'\n",
    "    '''The variable amazingness is a class variable whose value is \n",
    "    shared by all instances of the class and can be accessed by calling\n",
    "    Sundar.amazingness from inside or outside the class.'''\n",
    "    amazingness = 9\n",
    "    \n",
    "    '''Call the class constructor or initialization method \n",
    "    which creates a new instance of th class.'''\n",
    "    def __init__ (self, name, cuteness, smartness):\n",
    "        self.name = name\n",
    "        self.cuteness = cuteness\n",
    "        self.smartness = smartness\n",
    "        Sundar.amazingness += (cuteness+smartness)*0.25\n",
    "        \n",
    "    def displaySundar(self):\n",
    "        print (\"Name : \",self.name, \", Cuteness: \",self.cuteness, \", Smartness: \",self.smartness)\n",
    "        print (\"Amazingness: \", Sundar.amazingness)\n",
    "        \n",
    "sudo = Sundar(\"Sundar\", 10, 9)\n",
    "sudo.displaySundar()\n"
   ]
  },
  {
   "cell_type": "code",
   "execution_count": 9,
   "metadata": {},
   "outputs": [
    {
     "name": "stdout",
     "output_type": "stream",
     "text": [
      "Sundar.__doc__: Common class for all things Sundar\n",
      "Sundar.__name__: Sundar\n",
      "Sundar.__module__: __main__\n",
      "Sundar.__bases__: (<class 'object'>,)\n",
      "Sundar.__str__: <slot wrapper '__str__' of 'object' objects>\n"
     ]
    }
   ],
   "source": [
    "print (\"Sundar.__doc__:\", Sundar.__doc__)\n",
    "print (\"Sundar.__name__:\", Sundar.__name__)\n",
    "print (\"Sundar.__module__:\", Sundar.__module__)\n",
    "print (\"Sundar.__bases__:\", Sundar.__bases__)\n",
    "print (\"Sundar.__str__:\", Sundar.__str__)"
   ]
  },
  {
   "cell_type": "code",
   "execution_count": 15,
   "metadata": {},
   "outputs": [
    {
     "name": "stdout",
     "output_type": "stream",
     "text": [
      "The fact tht Sundar is supermegafoxyawesomehot  is the truest statement that wuz eva spoken.\n",
      " Her great doggoness Shunda is tha beztest\n",
      "Name :  Sundar , Cuteness:  11.875 , Smartness:  10.4\n",
      "Amazingness:  33.875\n"
     ]
    },
    {
     "data": {
      "text/plain": [
       "'Sundar is super duper amazing with cootness 11.875000 and ismaatness 10.400000'"
      ]
     },
     "execution_count": 15,
     "metadata": {},
     "output_type": "execute_result"
    }
   ],
   "source": [
    "class CootHooman(Sundar):\n",
    "    def __init__ (self, name, cootness, ismaatness):\n",
    "        self.name = name\n",
    "        self.cootness = cootness*1.25\n",
    "        self.ismaatness = ismaatness*1.3\n",
    "        Sundar.amazingness += (cootness+ismaatness)*0.3\n",
    "    \n",
    "    def displaySundar(self, str):\n",
    "        print(str, \" is the truest statement that wuz eva spoken.\\n Her great doggoness Shunda is tha beztest\")\n",
    "        print (\"Name : \",self.name, \", Cuteness: \",self.cootness, \", Smartness: \",self.ismaatness)\n",
    "        print (\"Amazingness: \", Sundar.amazingness)\n",
    "        \n",
    "    def __str__(self):\n",
    "        return '%s is super duper amazing with cootness %f and ismaatness %f' % (self.name, self.cootness, self.ismaatness)\n",
    "\n",
    "        \n",
    "suddu = CootHooman(\"Sundar\", 9.5, 8)\n",
    "suddu.displaySundar(\"The fact tht Sundar is supermegafoxyawesomehot\")\n",
    "str(suddu)"
   ]
  },
  {
   "cell_type": "code",
   "execution_count": null,
   "metadata": {},
   "outputs": [],
   "source": []
  }
 ],
 "metadata": {
  "kernelspec": {
   "display_name": "Python 3",
   "language": "python",
   "name": "python3"
  },
  "language_info": {
   "codemirror_mode": {
    "name": "ipython",
    "version": 3
   },
   "file_extension": ".py",
   "mimetype": "text/x-python",
   "name": "python",
   "nbconvert_exporter": "python",
   "pygments_lexer": "ipython3",
   "version": "3.7.2"
  }
 },
 "nbformat": 4,
 "nbformat_minor": 2
}
