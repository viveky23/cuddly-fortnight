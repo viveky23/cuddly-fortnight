{
 "cells": [
  {
   "cell_type": "code",
   "execution_count": 34,
   "metadata": {},
   "outputs": [],
   "source": [
    "import csv"
   ]
  },
  {
   "cell_type": "code",
   "execution_count": 35,
   "metadata": {},
   "outputs": [
    {
     "name": "stdout",
     "output_type": "stream",
     "text": [
      "Column names are seq, name/first, name/last, age, zip, dollar\n"
     ]
    }
   ],
   "source": [
    "with open('data.csv') as csv_file:\n",
    "    csv_reader = csv.reader(csv_file, delimiter=',')\n",
    "    line_count = 0\n",
    "    seq = []\n",
    "    fname = []\n",
    "    lname = []\n",
    "    age = []\n",
    "    pin = []\n",
    "    salary = []\n",
    "    for row in csv_reader:\n",
    "        if line_count == 0:\n",
    "            print(f'Column names are {\", \".join(row)}')\n",
    "            line_count += 1\n",
    "        else:\n",
    "            seq.append(row[0])\n",
    "            fname.append(row[1])\n",
    "            lname.append(row[2])\n",
    "            age.append(row[3])\n",
    "            pin.append(row[4])\n",
    "            salary.append(row[5])\n",
    "            line_count += 1"
   ]
  },
  {
   "cell_type": "markdown",
   "metadata": {},
   "source": [
    "**Bubble sort**, sometimes referred to as sinking sort, is a simple sorting algorithm that repeatedly steps through the list to be sorted, compares each pair of adjacent items and swaps them if they are in the wrong order. The pass through the list is repeated until no swaps are needed, which indicates that the list is sorted."
   ]
  },
  {
   "cell_type": "code",
   "execution_count": 39,
   "metadata": {},
   "outputs": [],
   "source": [
    "def bubbleSort(arr):\n",
    "    length = len(arr)\n",
    "    arr_ = arr.copy()\n",
    "    for i in range(length-1):\n",
    "        swapped = False\n",
    "        for j in range (length-1-i):\n",
    "            if arr_[j] > arr_[j+1]:\n",
    "                swapped = True\n",
    "                arr_[j], arr_[j+1] = arr_[j+1], arr_[j]\n",
    "        if not swapped: break\n",
    "    return arr_            "
   ]
  },
  {
   "cell_type": "markdown",
   "metadata": {},
   "source": [
    "**Insertion sort** is a simple sorting algorithm that builds the final sorted array (or list) one item at a time. It is much less efficient on large lists than more advanced algorithms such as quicksort, heapsort, or merge sort."
   ]
  },
  {
   "cell_type": "code",
   "execution_count": 40,
   "metadata": {},
   "outputs": [],
   "source": [
    "def insertionSort(arr):\n",
    "    length  = len(arr)\n",
    "    arr_ = arr.copy()\n",
    "    for i in range(length-1):\n",
    "        for j in reversed(range(i-1)):\n",
    "            if arr_[j+1] < arr_[j]:\n",
    "                arr_[j], arr_[j+1] = arr_[j+1], arr_[j]\n",
    "            else: break\n",
    "    return arr_"
   ]
  },
  {
   "cell_type": "code",
   "execution_count": null,
   "metadata": {},
   "outputs": [],
   "source": []
  }
 ],
 "metadata": {
  "kernelspec": {
   "display_name": "Python 3",
   "language": "python",
   "name": "python3"
  },
  "language_info": {
   "codemirror_mode": {
    "name": "ipython",
    "version": 3
   },
   "file_extension": ".py",
   "mimetype": "text/x-python",
   "name": "python",
   "nbconvert_exporter": "python",
   "pygments_lexer": "ipython3",
   "version": "3.7.2"
  }
 },
 "nbformat": 4,
 "nbformat_minor": 2
}
