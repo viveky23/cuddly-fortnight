{
 "cells": [
  {
   "cell_type": "code",
   "execution_count": 1,
   "metadata": {},
   "outputs": [],
   "source": [
    "import calendar"
   ]
  },
  {
   "cell_type": "code",
   "execution_count": 2,
   "metadata": {},
   "outputs": [
    {
     "name": "stdout",
     "output_type": "stream",
     "text": [
      "[2, 3, 4, 5]\n",
      "[2, 2001, 4, 5]\n",
      "[2, 4, 5, 6]\n",
      "1\n",
      "[1, 2, 4, 5, 6, 7, 9, 9, 9]\n",
      "(1, 2, 4, 5, 6, 7, 9, 9, 9)\n",
      "Sundar\n",
      "dict_items([('Name', 'Sundar'), ('Age', '23'), ('Power', 'Uber Cool'), ('Cuteness index', 'Error: Out of bounds')])\n"
     ]
    }
   ],
   "source": [
    "lst = [1,2,3,4,5,6,7]\n",
    "print (lst[1:5])\n",
    "lst[2] = 2001\n",
    "print (lst[1:5])\n",
    "del lst[2]\n",
    "print (lst[1:5])\n",
    "#for x in lst:\n",
    "    #print(x)\n",
    "print (min(lst))\n",
    "lst.extend([9,9,9])\n",
    "lst.reverse()\n",
    "lst.sort()\n",
    "print(lst)\n",
    "tup = tuple(lst)\n",
    "print (tup)\n",
    "dict = {'Name': 'Sundar', 'Age': '23', 'Power': 'Uber Cool'}\n",
    "print (dict['Name'])\n",
    "dict['Cuteness index'] = 'Error: Out of bounds'\n",
    "print (dict.items())"
   ]
  },
  {
   "cell_type": "code",
   "execution_count": 3,
   "metadata": {},
   "outputs": [
    {
     "name": "stdout",
     "output_type": "stream",
     "text": [
      "      May 2020\n",
      "Mo Tu We Th Fr Sa Su\n",
      "             1  2  3\n",
      " 4  5  6  7  8  9 10\n",
      "11 12 13 14 15 16 17\n",
      "18 19 20 21 22 23 24\n",
      "25 26 27 28 29 30 31\n",
      "\n",
      "string\n",
      "[10, 20, 30, [1, 2, 3, 4]]\n",
      "[10, 20, 30, [1, 2, 3, 4]]\n"
     ]
    }
   ],
   "source": [
    "cal = calendar.month(2020,5)\n",
    "print (cal)\n",
    "def func (str, lst):\n",
    "    print (str)\n",
    "    lst.append([1,2,3,4])\n",
    "    print (lst)\n",
    "    return\n",
    "\n",
    "lst = [10, 20, 30]\n",
    "func(\"string\", lst)\n",
    "print (lst)"
   ]
  },
  {
   "cell_type": "code",
   "execution_count": 4,
   "metadata": {},
   "outputs": [
    {
     "name": "stdout",
     "output_type": "stream",
     "text": [
      "Sundar is the bestest person ever!\n",
      "You look super duper ravishing today!\n",
      "Want some juice?\n"
     ]
    }
   ],
   "source": [
    "def sudoTyagi (name, smartness, sexiness, cuteness, hunger = True):\n",
    "    print (name+\" is the bestest person ever!\")\n",
    "    if smartness and sexiness and cuteness:\n",
    "        print (\"You look super duper ravishing today!\")\n",
    "        if hunger:\n",
    "            print (\"I think you might like some tasty bhindi!\")\n",
    "        else:\n",
    "            print (\"Want some juice?\")\n",
    "    else:\n",
    "        pass\n",
    "    return\n",
    "\n",
    "sudoTyagi(\"Sundar\",True, True, True, False)"
   ]
  },
  {
   "cell_type": "code",
   "execution_count": 5,
   "metadata": {},
   "outputs": [
    {
     "name": "stdout",
     "output_type": "stream",
     "text": [
      "Enter your input:Hi\n",
      "Hi\n"
     ]
    }
   ],
   "source": [
    "str = input (\"Enter your input:\")\n",
    "print (str)"
   ]
  },
  {
   "cell_type": "code",
   "execution_count": null,
   "metadata": {},
   "outputs": [],
   "source": []
  }
 ],
 "metadata": {
  "kernelspec": {
   "display_name": "Python 3",
   "language": "python",
   "name": "python3"
  },
  "language_info": {
   "codemirror_mode": {
    "name": "ipython",
    "version": 3
   },
   "file_extension": ".py",
   "mimetype": "text/x-python",
   "name": "python",
   "nbconvert_exporter": "python",
   "pygments_lexer": "ipython3",
   "version": "3.7.2"
  }
 },
 "nbformat": 4,
 "nbformat_minor": 2
}
