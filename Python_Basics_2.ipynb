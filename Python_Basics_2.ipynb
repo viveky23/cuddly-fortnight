{
 "cells": [
  {
   "cell_type": "markdown",
   "metadata": {},
   "source": [
    "# Python Basics 2 "
   ]
  },
  {
   "cell_type": "markdown",
   "metadata": {},
   "source": [
    "access_mode - Specifies how file has to be opened: read, write, append etc.\n",
    "\n",
    "    Syntax: file <name> = open (name[, access mode] [, buffering])"
   ]
  },
  {
   "cell_type": "code",
   "execution_count": 16,
   "metadata": {},
   "outputs": [],
   "source": [
    "import os"
   ]
  },
  {
   "cell_type": "code",
   "execution_count": 8,
   "metadata": {},
   "outputs": [
    {
     "name": "stdout",
     "output_type": "stream",
     "text": [
      "Name of the file:  foo.txt\n",
      "Closed or not :  False\n",
      "Opening mode :  w\n"
     ]
    }
   ],
   "source": [
    "fo = open(\"foo.txt\", \"w\")\n",
    "print (\"Name of the file: \", fo.name)\n",
    "print (\"Closed or not : \", fo.closed)\n",
    "print (\"Opening mode : \", fo.mode)\n",
    "\n",
    "#The write() method writes any string t an open file. \n",
    "#Python strings can save binary data as well as text.\n",
    "\n",
    "fo.write(\"Sundar ate all the chocolates without offering me any!\\n\")\n",
    "\n",
    "fo.close()"
   ]
  },
  {
   "cell_type": "code",
   "execution_count": 9,
   "metadata": {},
   "outputs": [
    {
     "name": "stdout",
     "output_type": "stream",
     "text": [
      "Today's complaints are: \n",
      " Sundar ate all the chocolates without offering me any!\n",
      "\n"
     ]
    }
   ],
   "source": [
    "#The read() method reads a string from any open file.\n",
    "\n",
    "fo = open(\"foo.txt\", \"r+\")\n",
    "str = fo.read()\n",
    "print(\"Today's complaints are: \\n\", str)\n",
    "fo.close()"
   ]
  },
  {
   "cell_type": "code",
   "execution_count": 12,
   "metadata": {},
   "outputs": [
    {
     "name": "stdout",
     "output_type": "stream",
     "text": [
      "Today's complaints are: \n",
      " Sundar ate all the chocolates without offering me any!\n",
      "Sundar hasn't resolved my outstanding complaint and I want to register a complaint about that\n",
      "Sundar is super cute and is hijacking all my Python practice. PS. That is not her fault. <3\n",
      "Sundar hasn't resolved my outstanding complaint and I want to register a complaint about that\n",
      "Sundar is super cute and is hijacking all my Python practice. PS. That is not her fault. <3\n",
      "\n"
     ]
    }
   ],
   "source": [
    "#write() method with append mode.\n",
    "\n",
    "#Open a file\n",
    "fo = open(\"foo.txt\", \"a\")\n",
    "complaint_1 = \"Sundar hasn't resolved my outstanding complaint and I want to register a complaint about that\\n\"\n",
    "complaint_2 = \"Sundar is super cute and is hijacking all my Python practice. PS. That is not her fault. <3\\n\"\n",
    "\n",
    "#appened to opened file\n",
    "fo.write(complaint_1)\n",
    "fo.write(complaint_2)\n",
    "fo.close()\n",
    "\n",
    "#Close old file and open in read mode\n",
    "fo = open(\"foo.txt\", \"r+\")\n",
    "str = fo.read()\n",
    "print(\"Today's complaints are: \\n\", str)\n",
    "fo.close()"
   ]
  },
  {
   "cell_type": "code",
   "execution_count": 15,
   "metadata": {},
   "outputs": [
    {
     "name": "stdout",
     "output_type": "stream",
     "text": [
      "Read String is :  Sundar ate\n",
      "Current file position :  10\n",
      "Again read String is :  Sundar ate\n"
     ]
    }
   ],
   "source": [
    "# Open a file\n",
    "fo = open(\"foo.txt\", \"r+\")\n",
    "str = fo.read(10);\n",
    "print (\"Read String is : \", str)\n",
    "\n",
    "# Check current position\n",
    "position = fo.tell();\n",
    "print (\"Current file position : \", position)\n",
    "\n",
    "# Reposition pointer at the beginning once again\n",
    "position = fo.seek(0, 0);\n",
    "str = fo.read(10);\n",
    "print (\"Again read String is : \", str)\n",
    "# Close opend file\n",
    "fo.close()"
   ]
  },
  {
   "cell_type": "code",
   "execution_count": 17,
   "metadata": {},
   "outputs": [
    {
     "data": {
      "text/plain": [
       "'/home/viveky23/Studies/Python Practice/Python Practice'"
      ]
     },
     "execution_count": 17,
     "metadata": {},
     "output_type": "execute_result"
    }
   ],
   "source": [
    "#getcwd() gives the current working directory\n",
    "\n",
    "os.getcwd()"
   ]
  },
  {
   "cell_type": "code",
   "execution_count": 27,
   "metadata": {},
   "outputs": [
    {
     "name": "stdout",
     "output_type": "stream",
     "text": [
      "Input current cuteness: 8\n",
      "Current cuteness:  6.2\n",
      "Input current cuteness: 9\n",
      "Current cuteness:  8.2\n",
      "Yayy! Sundar is super cute\n"
     ]
    }
   ],
   "source": [
    "'''Assert Expression[, Arguments] asserts an error and if not\n",
    "handled like any other exception then lead to the termination\n",
    "of the program, producing a traceback'''\n",
    "\n",
    "def CuteSundar(anger):\n",
    "    cute = input(\"Input current cuteness: \")\n",
    "    cute = int(cute)\n",
    "    anger = int(anger)\n",
    "    assert (cute >=8), \"You Liar! Sundar is suppah coot\"\n",
    "    return (cute - anger*0.2)\n",
    "\n",
    "try:\n",
    "    print (\"Current cuteness: \",CuteSundar(\"9\"))\n",
    "    print (\"Current cuteness: \",CuteSundar(\"4\"))\n",
    "except AssertionError:\n",
    "    print (\"Go away evil human\")\n",
    "else:\n",
    "    print (\"Yayy! Sundar is super cute\")"
   ]
  },
  {
   "cell_type": "code",
   "execution_count": null,
   "metadata": {},
   "outputs": [],
   "source": []
  }
 ],
 "metadata": {
  "kernelspec": {
   "display_name": "Python 3",
   "language": "python",
   "name": "python3"
  },
  "language_info": {
   "codemirror_mode": {
    "name": "ipython",
    "version": 3
   },
   "file_extension": ".py",
   "mimetype": "text/x-python",
   "name": "python",
   "nbconvert_exporter": "python",
   "pygments_lexer": "ipython3",
   "version": "3.7.2"
  }
 },
 "nbformat": 4,
 "nbformat_minor": 2
}
